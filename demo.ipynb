{
 "cells": [
  {
   "cell_type": "markdown",
   "metadata": {},
   "source": [
    "# Examples\n",
    "\n",
    "Examples of displaying simple cell differences."
   ]
  },
  {
   "cell_type": "code",
   "execution_count": 1,
   "metadata": {},
   "outputs": [],
   "source": [
    "#%pip install --upgrade ."
   ]
  },
  {
   "cell_type": "markdown",
   "metadata": {},
   "source": [
    "Load the magic:"
   ]
  },
  {
   "cell_type": "code",
   "execution_count": 2,
   "metadata": {},
   "outputs": [],
   "source": [
    "%reload_ext nbcelldiff"
   ]
  },
  {
   "cell_type": "markdown",
   "metadata": {},
   "source": [
    "Run a cell:"
   ]
  },
  {
   "cell_type": "code",
   "execution_count": 3,
   "metadata": {},
   "outputs": [
    {
     "name": "stdout",
     "output_type": "stream",
     "text": [
      "hello\n"
     ]
    }
   ],
   "source": [
    "print('hello')"
   ]
  },
  {
   "cell_type": "markdown",
   "metadata": {},
   "source": [
    "We can now prefix a cell will some magic and run it and it will render the difference between the run cell contents and the contents of the previously run cell:"
   ]
  },
  {
   "cell_type": "code",
   "execution_count": 4,
   "metadata": {},
   "outputs": [
    {
     "data": {
      "text/html": [
       "<span>print('</span><del style=\"background:#ffe6e6;\">h</del><ins style=\"background:#e6ffe6;\">goodby</ins><span>e</span><del style=\"background:#ffe6e6;\">llo</del><span>')</span><ins style=\"background:#e6ffe6;\">&para;<br></ins>"
      ],
      "text/plain": [
       "<IPython.core.display.HTML object>"
      ]
     },
     "metadata": {},
     "output_type": "display_data"
    }
   ],
   "source": [
    "%%diff_magic --previous\n",
    "print('goodbye')"
   ]
  },
  {
   "cell_type": "markdown",
   "metadata": {},
   "source": [
    "We can also use magic to compare the contents of the magicked cell with the contents a previously run cell, as indexed by it's cell run number:"
   ]
  },
  {
   "cell_type": "code",
   "execution_count": 5,
   "metadata": {},
   "outputs": [
    {
     "data": {
      "text/html": [
       "<span>print('</span><del style=\"background:#ffe6e6;\">hell</del><ins style=\"background:#e6ffe6;\">go</ins><span>o</span><ins style=\"background:#e6ffe6;\">dbye!</ins><span>')</span><ins style=\"background:#e6ffe6;\">&para;<br></ins>"
      ],
      "text/plain": [
       "<IPython.core.display.HTML object>"
      ]
     },
     "metadata": {},
     "output_type": "display_data"
    }
   ],
   "source": [
    "%%diff_magic --earlier 3\n",
    "print('goodbye!')"
   ]
  },
  {
   "cell_type": "markdown",
   "metadata": {},
   "source": [
    "If we highlight and copy some code into the clipboard, we can compare the contents of the magicked cell will the contents of the code pasted to the clipboard:"
   ]
  },
  {
   "cell_type": "code",
   "execution_count": 6,
   "metadata": {},
   "outputs": [
    {
     "data": {
      "text/html": [
       "<del style=\"background:#ffe6e6;\">%d</del><ins style=\"background:#e6ffe6;\">pr</ins><span>i</span><del style=\"background:#ffe6e6;\">ff_ma</del><ins style=\"background:#e6ffe6;\">nt('</ins><span>g</span><del style=\"background:#ffe6e6;\">ic --clipb</del><ins style=\"background:#e6ffe6;\">o</ins><span>o</span><del style=\"background:#ffe6e6;\">ar</del><span>d</span><ins style=\"background:#e6ffe6;\">bye..!')&para;<br></ins>"
      ],
      "text/plain": [
       "<IPython.core.display.HTML object>"
      ]
     },
     "metadata": {},
     "output_type": "display_data"
    }
   ],
   "source": [
    "%%diff_magic --clipboard\n",
    "print('goodbye..!')"
   ]
  },
  {
   "cell_type": "code",
   "execution_count": 7,
   "metadata": {},
   "outputs": [
    {
     "name": "stdout",
     "output_type": "stream",
     "text": [
      "hello there...\n"
     ]
    }
   ],
   "source": [
    "print(\"hello there...\")"
   ]
  },
  {
   "cell_type": "code",
   "execution_count": 8,
   "metadata": {},
   "outputs": [
    {
     "data": {
      "text/html": [
       "<span>print(</span><del style=\"background:#ffe6e6;\">'</del><ins style=\"background:#e6ffe6;\">\"</ins><span>hello</span><del style=\"background:#ffe6e6;\">'</del><ins style=\"background:#e6ffe6;\"> there...\"</ins><span>)</span>"
      ],
      "text/plain": [
       "<IPython.core.display.HTML object>"
      ]
     },
     "metadata": {},
     "output_type": "display_data"
    }
   ],
   "source": [
    "%diff_magic --compare 3,7"
   ]
  },
  {
   "cell_type": "code",
   "execution_count": null,
   "metadata": {},
   "outputs": [],
   "source": []
  }
 ],
 "metadata": {
  "kernelspec": {
   "display_name": "Python 3",
   "language": "python",
   "name": "python3"
  },
  "language_info": {
   "codemirror_mode": {
    "name": "ipython",
    "version": 3
   },
   "file_extension": ".py",
   "mimetype": "text/x-python",
   "name": "python",
   "nbconvert_exporter": "python",
   "pygments_lexer": "ipython3",
   "version": "3.7.6"
  }
 },
 "nbformat": 4,
 "nbformat_minor": 4
}
